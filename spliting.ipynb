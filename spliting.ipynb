{
 "cells": [
  {
   "cell_type": "code",
   "execution_count": 1,
   "id": "6aa2537c-3412-41f5-92c1-080c3f0e9ced",
   "metadata": {},
   "outputs": [
    {
     "name": "stdout",
     "output_type": "stream",
     "text": [
      "Requirement already satisfied: split-folders in c:\\users\\hasin\\anaconda3\\lib\\site-packages (0.5.1)\n",
      "Note: you may need to restart the kernel to use updated packages.\n"
     ]
    }
   ],
   "source": [
    "pip install split-folders"
   ]
  },
  {
   "cell_type": "code",
   "execution_count": 1,
   "id": "cde41753-9504-4159-91b2-9efd36a27ba7",
   "metadata": {},
   "outputs": [
    {
     "name": "stderr",
     "output_type": "stream",
     "text": [
      "Copying files: 407 files [00:02, 149.18 files/s]\n"
     ]
    }
   ],
   "source": [
    "import splitfolders  # or import split_folders\n",
    "\n",
    "input_folder = 'Cowpea_Dataset/'\n",
    "\n",
    "#Split with a ratio.\n",
    "#Train, val, test\n",
    "splitfolders.ratio(input_folder, output=\"Cowpea_Data\", \n",
    "                   seed=42, ratio=(.7, .2, .1), \n",
    "                   group_prefix=None) # default values"
   ]
  },
  {
   "cell_type": "code",
   "execution_count": 1,
   "id": "498917e1-cabc-429a-812b-59e76a1a65bb",
   "metadata": {},
   "outputs": [
    {
     "name": "stderr",
     "output_type": "stream",
     "text": [
      "Copying files: 1009 files [00:44, 22.65 files/s] \n"
     ]
    }
   ],
   "source": [
    "import splitfolders  # or import split_folders\n",
    "\n",
    "input_folder = 'Turmeric_Dataset/'\n",
    "\n",
    "#Split with a ratio.\n",
    "#Train, val, test\n",
    "splitfolders.ratio(input_folder, output=\"Turmeric_Data\", \n",
    "                   seed=42, ratio=(.7, .2, .1), \n",
    "                   group_prefix=None) # default values"
   ]
  },
  {
   "cell_type": "code",
   "execution_count": 2,
   "id": "b41dd6ca-78e8-45c1-9e5d-96dc99d9f812",
   "metadata": {},
   "outputs": [
    {
     "name": "stderr",
     "output_type": "stream",
     "text": [
      "Copying files: 754 files [00:23, 31.59 files/s] \n"
     ]
    }
   ],
   "source": [
    "import splitfolders  # or import split_folders\n",
    "\n",
    "input_folder = 'Ivy Gourd_Dataset/'\n",
    "\n",
    "#Split with a ratio.\n",
    "#Train, val, test\n",
    "splitfolders.ratio(input_folder, output=\"Ivy Gourd_Data\", \n",
    "                   seed=42, ratio=(.7, .2, .1), \n",
    "                   group_prefix=None) # default values"
   ]
  },
  {
   "cell_type": "code",
   "execution_count": 3,
   "id": "10a79c5e-3276-47d9-900f-3fea3f4e32e0",
   "metadata": {},
   "outputs": [
    {
     "name": "stderr",
     "output_type": "stream",
     "text": [
      "Copying files: 369 files [00:03, 119.89 files/s]\n"
     ]
    }
   ],
   "source": [
    "import splitfolders  # or import split_folders\n",
    "\n",
    "input_folder = 'Snake Gourd_Dataset/'\n",
    "\n",
    "#Split with a ratio.\n",
    "#Train, val, test\n",
    "splitfolders.ratio(input_folder, output=\"Snake Gourd_Data\", \n",
    "                   seed=42, ratio=(.7, .2, .1), \n",
    "                   group_prefix=None) # default values"
   ]
  },
  {
   "cell_type": "code",
   "execution_count": 5,
   "id": "c60433d5-f66c-4aa9-b3bb-c62708c455a2",
   "metadata": {},
   "outputs": [
    {
     "name": "stderr",
     "output_type": "stream",
     "text": [
      "Copying files: 600 files [00:04, 144.98 files/s]\n"
     ]
    }
   ],
   "source": [
    "import splitfolders  # or import split_folders\n",
    "\n",
    "input_folder = 'Taro root_Dataset/'\n",
    "\n",
    "#Split with a ratio.\n",
    "#Train, val, test\n",
    "splitfolders.ratio(input_folder, output=\"Taro root_Data\", \n",
    "                   seed=42, ratio=(.7, .2, .1), \n",
    "                   group_prefix=None) # default values"
   ]
  },
  {
   "cell_type": "code",
   "execution_count": 6,
   "id": "e75e2c97-09af-495f-801b-12dc8d346ca4",
   "metadata": {},
   "outputs": [
    {
     "name": "stderr",
     "output_type": "stream",
     "text": [
      "Copying files: 1308 files [00:20, 63.05 files/s] \n"
     ]
    }
   ],
   "source": [
    "import splitfolders  # or import split_folders\n",
    "\n",
    "input_folder = 'Spiny Gourd_Dataset/'\n",
    "\n",
    "#Split with a ratio.\n",
    "#Train, val, test\n",
    "splitfolders.ratio(input_folder, output=\"Spiny Gourd_Data\", \n",
    "                   seed=42, ratio=(.7, .2, .1), \n",
    "                   group_prefix=None) # default values"
   ]
  },
  {
   "cell_type": "code",
   "execution_count": null,
   "id": "1c7442ff-5e81-4cd3-b581-f216f38d115a",
   "metadata": {},
   "outputs": [],
   "source": []
  },
  {
   "cell_type": "code",
   "execution_count": null,
   "id": "f6313c77-06b1-4779-a99d-421a144c147e",
   "metadata": {},
   "outputs": [],
   "source": []
  }
 ],
 "metadata": {
  "kernelspec": {
   "display_name": "Python [conda env:base] *",
   "language": "python",
   "name": "conda-base-py"
  },
  "language_info": {
   "codemirror_mode": {
    "name": "ipython",
    "version": 3
   },
   "file_extension": ".py",
   "mimetype": "text/x-python",
   "name": "python",
   "nbconvert_exporter": "python",
   "pygments_lexer": "ipython3",
   "version": "3.13.5"
  }
 },
 "nbformat": 4,
 "nbformat_minor": 5
}
